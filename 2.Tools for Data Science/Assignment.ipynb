{
 "cells": [
  {
   "cell_type": "markdown",
   "id": "c78e0093-2a58-434a-8a8a-556fbcbf5e02",
   "metadata": {},
   "source": [
    "<h1>My Jupyter Notebook on IBM Watson Studio</h1>\n"
   ]
  },
  {
   "cell_type": "markdown",
   "id": "7435c277-fbd2-47c0-a001-849bf53ef67e",
   "metadata": {},
   "source": [
    "<p style=\"font-weight:bold;\">Ajay</p>\n",
    "<p>My current occupation is a 'Student' and my desired occupation 'Data Scientist'</p>"
   ]
  },
  {
   "cell_type": "markdown",
   "id": "2206690f-ed71-4351-bc41-57a83dfdb05b",
   "metadata": {},
   "source": [
    "<p style=\"font-style:italic;\">I am interested in Data Science because working with data fascinates me.</p>"
   ]
  },
  {
   "cell_type": "markdown",
   "id": "f7994ff0-0094-4339-a6e6-b1206c6e5870",
   "metadata": {},
   "source": [
    "<h3>Next Cell will Print a string \"Welcome to data science\"</h3>"
   ]
  },
  {
   "cell_type": "code",
   "execution_count": 4,
   "id": "b80a9748-cd96-4ffe-90ec-b57121fe694e",
   "metadata": {},
   "outputs": [
    {
     "name": "stdout",
     "output_type": "stream",
     "text": [
      "Welcome to data science\n"
     ]
    }
   ],
   "source": [
    "print(\"Welcome to data science\")"
   ]
  },
  {
   "cell_type": "markdown",
   "id": "4abdfbd3-0dbe-4128-8e00-95c738930ef0",
   "metadata": {},
   "source": [
    "<hr>\n",
    "<ul>\n",
    "    <li style=\"color:red;\">Python</li>\n",
    "    <li style>RStudio</li>\n",
    "    <li>SQL</li>\n",
    "</ul>\n",
    "<a href=\"IBM.com\">IBM</a>\n",
    "</hr>\n",
    "<br>"
   ]
  },
  {
   "cell_type": "markdown",
   "id": "e367f432-d451-4e11-bb73-d19d0c895a77",
   "metadata": {},
   "source": [
    "|NAME|AGE|\n",
    "|---|---|\n",
    "|ajay|20|"
   ]
  },
  {
   "cell_type": "code",
   "execution_count": null,
   "id": "5401c3cb-4297-4442-8d5a-c68fb8c6ad2d",
   "metadata": {},
   "outputs": [],
   "source": []
  }
 ],
 "metadata": {
  "kernelspec": {
   "display_name": "Python",
   "language": "python",
   "name": "conda-env-python-py"
  },
  "language_info": {
   "codemirror_mode": {
    "name": "ipython",
    "version": 3
   },
   "file_extension": ".py",
   "mimetype": "text/x-python",
   "name": "python",
   "nbconvert_exporter": "python",
   "pygments_lexer": "ipython3",
   "version": "3.7.12"
  }
 },
 "nbformat": 4,
 "nbformat_minor": 5
}
